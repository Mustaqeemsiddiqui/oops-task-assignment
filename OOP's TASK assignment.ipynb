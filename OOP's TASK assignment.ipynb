{
 "cells": [
  {
   "cell_type": "markdown",
   "id": "b53ba6d7-234b-46ef-9aa6-c853199121ef",
   "metadata": {},
   "source": [
    "Q1. Create a vehicle class with an init method having instance variable as name_of_vehicle,max_speed and average_of_vehicle."
   ]
  },
  {
   "cell_type": "code",
   "execution_count": 2,
   "id": "b215d804-2332-4336-af52-504f1c32b429",
   "metadata": {},
   "outputs": [],
   "source": [
    "class vehicle:\n",
    "    def __init__(self,name_of_vehicle,max_speed,average_of_vehicle):\n",
    "        self.__name_of_vehicle=name_of_vehicle\n",
    "        self.__max_speed=max_speed\n",
    "        self.__average_of_vehicle=average_of_vehicle"
   ]
  },
  {
   "cell_type": "code",
   "execution_count": 3,
   "id": "5829dc00-254b-4bf0-bc0e-dfda2361ca51",
   "metadata": {},
   "outputs": [],
   "source": [
    "a=vehicle(\"thar\",200,10)"
   ]
  },
  {
   "cell_type": "code",
   "execution_count": 4,
   "id": "0e9624a3-9d96-4459-8ceb-c33dab255ed2",
   "metadata": {},
   "outputs": [
    {
     "data": {
      "text/plain": [
       "'thar'"
      ]
     },
     "execution_count": 4,
     "metadata": {},
     "output_type": "execute_result"
    }
   ],
   "source": [
    "a._vehicle__name_of_vehicle"
   ]
  },
  {
   "cell_type": "code",
   "execution_count": 5,
   "id": "89b0072d-34c0-4df4-9ac1-5080b7cd8800",
   "metadata": {},
   "outputs": [
    {
     "data": {
      "text/plain": [
       "200"
      ]
     },
     "execution_count": 5,
     "metadata": {},
     "output_type": "execute_result"
    }
   ],
   "source": [
    "a._vehicle__max_speed"
   ]
  },
  {
   "cell_type": "code",
   "execution_count": 6,
   "id": "eadbc27c-25fb-4189-8fc1-4cea8435dadd",
   "metadata": {},
   "outputs": [
    {
     "data": {
      "text/plain": [
       "10"
      ]
     },
     "execution_count": 6,
     "metadata": {},
     "output_type": "execute_result"
    }
   ],
   "source": [
    "a._vehicle__average_of_vehicle"
   ]
  },
  {
   "cell_type": "markdown",
   "id": "4b354928-7136-4837-baf3-9acba553c6bc",
   "metadata": {},
   "source": [
    "Q2.Create a child class car from the vehicle class created in question1 which will inherit the vehicle class. Create a method named seating_capacity  which takes capacity as an argument and returns the name of the vehicle and its seating capacity"
   ]
  },
  {
   "cell_type": "code",
   "execution_count": 14,
   "id": "5c19af0c-751f-4f8d-b426-6e862310b2a9",
   "metadata": {},
   "outputs": [],
   "source": [
    "class vehicle:\n",
    "    def __init__(self,name_of_vehicle,max_speed,average_of_vehicle):\n",
    "        self.__name_of_vehicle=name_of_vehicle\n",
    "        self.__max_speed=max_speed\n",
    "        self.__average_of_vehicle=average_of_vehicle"
   ]
  },
  {
   "cell_type": "code",
   "execution_count": 50,
   "id": "6296a878-562b-448d-b38a-79eb2541ad6b",
   "metadata": {},
   "outputs": [],
   "source": [
    "class car(vehicle):\n",
    "    \n",
    "    def __init__(self,name_of_vehicle,max_speed,average_of_vehicle):\n",
    "        super().__init__(name_of_vehicle, max_speed, average_of_vehicle)\n",
    "    def seating_capacity(self, capacity):\n",
    "        return f\"the seating capactiy is of {capacity} people\""
   ]
  },
  {
   "cell_type": "code",
   "execution_count": 51,
   "id": "2d5e9a9e-49ac-4d93-a2e9-fe4aa5645d66",
   "metadata": {},
   "outputs": [],
   "source": [
    "c1=car(\"toyota\",200,15)"
   ]
  },
  {
   "cell_type": "code",
   "execution_count": 52,
   "id": "2424ab31-0d6b-4fc8-b369-06c3fd7c4927",
   "metadata": {},
   "outputs": [
    {
     "name": "stdout",
     "output_type": "stream",
     "text": [
      "toyota\n"
     ]
    }
   ],
   "source": [
    "print(c1._vehicle__name_of_vehicle)"
   ]
  },
  {
   "cell_type": "code",
   "execution_count": 53,
   "id": "006e49fd-140f-4463-bf8b-2e4991a78740",
   "metadata": {},
   "outputs": [
    {
     "name": "stdout",
     "output_type": "stream",
     "text": [
      "200\n"
     ]
    }
   ],
   "source": [
    "print(c1._vehicle__max_speed)"
   ]
  },
  {
   "cell_type": "code",
   "execution_count": 54,
   "id": "62382b5e-3116-44a4-9b48-3c3c80b96002",
   "metadata": {},
   "outputs": [
    {
     "name": "stdout",
     "output_type": "stream",
     "text": [
      "15\n"
     ]
    }
   ],
   "source": [
    "print(c1._vehicle__average_of_vehicle)"
   ]
  },
  {
   "cell_type": "code",
   "execution_count": 55,
   "id": "e7f666a7-bc56-4c6b-9e59-f1a17ead72ba",
   "metadata": {},
   "outputs": [
    {
     "data": {
      "text/plain": [
       "'the seating capactiy is of 4 people'"
      ]
     },
     "execution_count": 55,
     "metadata": {},
     "output_type": "execute_result"
    }
   ],
   "source": [
    "c1.seating_capacity(4)"
   ]
  },
  {
   "cell_type": "markdown",
   "id": "57e2a0db-98b0-4e7d-af44-ec9ddd33f9a7",
   "metadata": {},
   "source": [
    "Q3.WHAT IS MULTIPLE INHERITANCE? WRITE A PYTHON CODE TO DEMONSTRATE MULTIPLE INHERITANCE"
   ]
  },
  {
   "cell_type": "markdown",
   "id": "7544a0bd-50e1-491a-b884-2434e905e01c",
   "metadata": {},
   "source": [
    "ANS:---\n",
    "Multiple inheritance is a feature in object oriented programming languages that allows a class to inherit properties and methods from multiple parent classes. in Python , a class can inherit from multiple parent classes by specifying them in the class definition"
   ]
  },
  {
   "cell_type": "code",
   "execution_count": 20,
   "id": "544a7f6d-1aa6-4e21-91b7-eb491688f9f8",
   "metadata": {},
   "outputs": [],
   "source": [
    "class class1:\n",
    "    def test_class1(self):\n",
    "        return 68+90"
   ]
  },
  {
   "cell_type": "code",
   "execution_count": 21,
   "id": "14874ed2-0199-4232-83c2-8e8f15336721",
   "metadata": {},
   "outputs": [],
   "source": [
    "class class2:\n",
    "    def test_class2(self):\n",
    "        return \"this is an example of multiple inheritance\""
   ]
  },
  {
   "cell_type": "code",
   "execution_count": 22,
   "id": "212abdb9-70e6-499c-8212-8fb24e970d7a",
   "metadata": {},
   "outputs": [],
   "source": [
    "class class3(class1,class2):\n",
    "    pass"
   ]
  },
  {
   "cell_type": "code",
   "execution_count": 23,
   "id": "6f36c611-6215-44a8-83cf-dfadedc08a12",
   "metadata": {},
   "outputs": [],
   "source": [
    "object_class3=class3()"
   ]
  },
  {
   "cell_type": "code",
   "execution_count": 24,
   "id": "5304972a-7b48-4a0b-a00e-884b31e09193",
   "metadata": {},
   "outputs": [
    {
     "data": {
      "text/plain": [
       "158"
      ]
     },
     "execution_count": 24,
     "metadata": {},
     "output_type": "execute_result"
    }
   ],
   "source": [
    "object_class3.test_class1()"
   ]
  },
  {
   "cell_type": "code",
   "execution_count": 25,
   "id": "95d1d512-0b0a-49ec-aea1-aee73b941975",
   "metadata": {},
   "outputs": [
    {
     "data": {
      "text/plain": [
       "'this is an example of multiple inheritance'"
      ]
     },
     "execution_count": 25,
     "metadata": {},
     "output_type": "execute_result"
    }
   ],
   "source": [
    "object_class3.test_class2()"
   ]
  },
  {
   "cell_type": "markdown",
   "id": "41aa4801-2cda-430e-9215-d6655e30ffbb",
   "metadata": {},
   "source": [
    "Q4.WHAT ARE SETTER AND GETTER IN PYTHON ? CREATE A CLASS AND CREATE A GETTER AND SETTER METHOD IN THEIS CLASS ."
   ]
  },
  {
   "cell_type": "markdown",
   "id": "b52a05cd-f804-47b3-aacd-be5d405dc707",
   "metadata": {},
   "source": [
    "ANS:---In Python , getters and setters are methods that provide a way to access and modify the values of private instance variables of a class . They are used to enforce encapsulation and control the access to class attributes. Getters are used to retrieve the values of private variables , while setters are used to set or modify the values of private variables.\n"
   ]
  },
  {
   "cell_type": "code",
   "execution_count": 69,
   "id": "d1ad029d-a631-4c27-84ce-a0a185ec52b4",
   "metadata": {},
   "outputs": [],
   "source": [
    "class student_details:\n",
    "    def __init__(self,name,email_id,age):\n",
    "        self.name=name\n",
    "        self.email_id=email_id\n",
    "        self._age=age\n",
    "    def get_age(self):\n",
    "        return self._age\n",
    "    def set_age(self,new_age):\n",
    "        if new_age >=15:\n",
    "            self._age=new_age\n",
    "            return True\n",
    "        else:\n",
    "            return False"
   ]
  },
  {
   "cell_type": "code",
   "execution_count": 70,
   "id": "fee95ec3-988a-4ded-a992-3f89aab5da9d",
   "metadata": {},
   "outputs": [],
   "source": [
    "s1=student_details(\"mohan\",\"mohan@gmail.com\",18)"
   ]
  },
  {
   "cell_type": "code",
   "execution_count": 71,
   "id": "e9c85aba-dcdd-4117-814f-eb76334e27db",
   "metadata": {},
   "outputs": [
    {
     "data": {
      "text/plain": [
       "'mohan@gmail.com'"
      ]
     },
     "execution_count": 71,
     "metadata": {},
     "output_type": "execute_result"
    }
   ],
   "source": [
    "s1.email_id"
   ]
  },
  {
   "cell_type": "code",
   "execution_count": 72,
   "id": "732827f5-daaa-4d9b-beed-87b3f447706a",
   "metadata": {},
   "outputs": [
    {
     "data": {
      "text/plain": [
       "'mohan'"
      ]
     },
     "execution_count": 72,
     "metadata": {},
     "output_type": "execute_result"
    }
   ],
   "source": [
    "s1.name"
   ]
  },
  {
   "cell_type": "code",
   "execution_count": 73,
   "id": "69a62ad3-b2b2-4a83-a360-01ecc08a24cd",
   "metadata": {},
   "outputs": [
    {
     "data": {
      "text/plain": [
       "True"
      ]
     },
     "execution_count": 73,
     "metadata": {},
     "output_type": "execute_result"
    }
   ],
   "source": [
    "s1.set_age(15)"
   ]
  },
  {
   "cell_type": "code",
   "execution_count": 74,
   "id": "27911471-3ea1-4fe5-bdc5-4a27b5f3eb64",
   "metadata": {},
   "outputs": [
    {
     "data": {
      "text/plain": [
       "15"
      ]
     },
     "execution_count": 74,
     "metadata": {},
     "output_type": "execute_result"
    }
   ],
   "source": [
    "s1.get_age()"
   ]
  },
  {
   "cell_type": "code",
   "execution_count": 75,
   "id": "b6eb4f25-696f-4c53-9af9-0b0bc6a816d8",
   "metadata": {},
   "outputs": [
    {
     "data": {
      "text/plain": [
       "False"
      ]
     },
     "execution_count": 75,
     "metadata": {},
     "output_type": "execute_result"
    }
   ],
   "source": [
    "s1.set_age(-1)"
   ]
  },
  {
   "cell_type": "code",
   "execution_count": 76,
   "id": "d4ba456f-6bb9-4ed2-b277-e009ec27be9c",
   "metadata": {},
   "outputs": [
    {
     "data": {
      "text/plain": [
       "15"
      ]
     },
     "execution_count": 76,
     "metadata": {},
     "output_type": "execute_result"
    }
   ],
   "source": [
    "s1.get_age()"
   ]
  },
  {
   "cell_type": "markdown",
   "id": "cc613837-fb13-4ca0-b128-1bd70b38f298",
   "metadata": {},
   "source": [
    "Q5.WHAT IS METHOD OVERRIDDING IN PYTHON? WRITE A PYTHON CODE TO DEMONSTRATE METHOD OVERRIDING."
   ]
  },
  {
   "cell_type": "markdown",
   "id": "b0156dec-8579-4e35-a904-e72ed04613c8",
   "metadata": {},
   "source": [
    "Ans:---\n",
    "Method Overriding is a concept in OOP where a subclass provides a different implementation for a method that is already defined in its superclass. When a method is overriden, the version defined in the subclass is executed instead of the version defined in the superclass."
   ]
  },
  {
   "cell_type": "code",
   "execution_count": 77,
   "id": "03d817c8-31d6-495a-b019-7a66348fd7f0",
   "metadata": {},
   "outputs": [],
   "source": [
    "class animals:\n",
    "    def fact(self):\n",
    "        return \"this is my speciality\""
   ]
  },
  {
   "cell_type": "code",
   "execution_count": 78,
   "id": "2a2ec3d7-64e3-4a7b-808e-64a86eee9def",
   "metadata": {},
   "outputs": [],
   "source": [
    "class cow(animals):\n",
    "    def fact(self):\n",
    "        return \" I give nearly 200000 glasses of milk in a lifetime\"\n",
    "    "
   ]
  },
  {
   "cell_type": "code",
   "execution_count": 79,
   "id": "cda55526-79cd-4a95-a95e-8f9f9c90868a",
   "metadata": {},
   "outputs": [],
   "source": [
    "class ostrich(animals):\n",
    "    def fact(self):\n",
    "        return \" My eye is bigger than my brain\""
   ]
  },
  {
   "cell_type": "code",
   "execution_count": null,
   "id": "6211b53b-90ed-4255-80c3-09fc44c80891",
   "metadata": {},
   "outputs": [],
   "source": [
    "c1"
   ]
  }
 ],
 "metadata": {
  "kernelspec": {
   "display_name": "Python 3 (ipykernel)",
   "language": "python",
   "name": "python3"
  },
  "language_info": {
   "codemirror_mode": {
    "name": "ipython",
    "version": 3
   },
   "file_extension": ".py",
   "mimetype": "text/x-python",
   "name": "python",
   "nbconvert_exporter": "python",
   "pygments_lexer": "ipython3",
   "version": "3.10.8"
  }
 },
 "nbformat": 4,
 "nbformat_minor": 5
}
